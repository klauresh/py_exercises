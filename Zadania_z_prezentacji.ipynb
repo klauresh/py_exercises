{
 "cells": [
  {
   "cell_type": "markdown",
   "metadata": {},
   "source": [
    "# zadanie 2"
   ]
  },
  {
   "cell_type": "code",
   "execution_count": 50,
   "metadata": {
    "collapsed": true
   },
   "outputs": [],
   "source": [
    "pierwszy_uczestnik = \"Ania\"\n",
    "\n",
    "\n",
    "drugi_uczestnik = \"Tomek\"\n",
    "\n",
    "pierwszy_uczestnik, drugi_uczestnik = drugi_uczestnik, pierwszy_uczestnik\n",
    "\n",
    "print(pierwszy_uczestnik, drugi_uczestnik)"
   ]
  },
  {
   "cell_type": "markdown",
   "metadata": {},
   "source": [
    "# zadanie 3"
   ]
  },
  {
   "cell_type": "code",
   "execution_count": null,
   "metadata": {
    "collapsed": true
   },
   "outputs": [],
   "source": [
    "trzeci_uczestnik = \"Wierzchosława\""
   ]
  },
  {
   "cell_type": "code",
   "execution_count": 66,
   "metadata": {
    "collapsed": false
   },
   "outputs": [
    {
     "data": {
      "text/plain": [
       "5"
      ]
     },
     "execution_count": 66,
     "metadata": {},
     "output_type": "execute_result"
    }
   ],
   "source": [
    "len(pierwszy_uczestnik)"
   ]
  },
  {
   "cell_type": "code",
   "execution_count": 67,
   "metadata": {
    "collapsed": false
   },
   "outputs": [
    {
     "data": {
      "text/plain": [
       "4"
      ]
     },
     "execution_count": 67,
     "metadata": {},
     "output_type": "execute_result"
    }
   ],
   "source": [
    "len(drugi_uczestnik)"
   ]
  },
  {
   "cell_type": "code",
   "execution_count": 65,
   "metadata": {
    "collapsed": false
   },
   "outputs": [
    {
     "data": {
      "text/plain": [
       "13"
      ]
     },
     "execution_count": 65,
     "metadata": {},
     "output_type": "execute_result"
    }
   ],
   "source": [
    "len(trzeci_uczestnik)"
   ]
  },
  {
   "cell_type": "markdown",
   "metadata": {},
   "source": [
    "## z importowanymi funkcjami"
   ]
  },
  {
   "cell_type": "code",
   "execution_count": 12,
   "metadata": {
    "collapsed": true
   },
   "outputs": [],
   "source": [
    "from statistics import mean\n"
   ]
  },
  {
   "cell_type": "code",
   "execution_count": 31,
   "metadata": {
    "collapsed": true
   },
   "outputs": [],
   "source": [
    "lista_uczestników = [pierwszy_uczestnik, drugi_uczestnik, trzeci_uczestnik]"
   ]
  },
  {
   "cell_type": "code",
   "execution_count": 32,
   "metadata": {
    "collapsed": false
   },
   "outputs": [
    {
     "name": "stdout",
     "output_type": "stream",
     "text": [
      "['Tomek', 'Ania', 'Wierzchosława']\n"
     ]
    }
   ],
   "source": [
    "print(lista_uczestników)"
   ]
  },
  {
   "cell_type": "code",
   "execution_count": 33,
   "metadata": {
    "collapsed": true
   },
   "outputs": [],
   "source": [
    "litery_lista = [len(elem) for elem in lista_uczestników]"
   ]
  },
  {
   "cell_type": "code",
   "execution_count": 34,
   "metadata": {
    "collapsed": false
   },
   "outputs": [
    {
     "name": "stdout",
     "output_type": "stream",
     "text": [
      "[5, 4, 13]\n"
     ]
    }
   ],
   "source": [
    "print(litery_lista)"
   ]
  },
  {
   "cell_type": "code",
   "execution_count": 35,
   "metadata": {
    "collapsed": false
   },
   "outputs": [
    {
     "data": {
      "text/plain": [
       "7.333333333333333"
      ]
     },
     "execution_count": 35,
     "metadata": {},
     "output_type": "execute_result"
    }
   ],
   "source": [
    "mean(litery_lista)"
   ]
  },
  {
   "cell_type": "code",
   "execution_count": 37,
   "metadata": {
    "collapsed": true
   },
   "outputs": [],
   "source": [
    "from statistics import median"
   ]
  },
  {
   "cell_type": "code",
   "execution_count": 38,
   "metadata": {
    "collapsed": false
   },
   "outputs": [
    {
     "data": {
      "text/plain": [
       "5"
      ]
     },
     "execution_count": 38,
     "metadata": {},
     "output_type": "execute_result"
    }
   ],
   "source": [
    "median(litery_lista)"
   ]
  },
  {
   "cell_type": "markdown",
   "metadata": {},
   "source": [
    "## z ręcznymi funkcjami"
   ]
  },
  {
   "cell_type": "code",
   "execution_count": 62,
   "metadata": {
    "collapsed": true
   },
   "outputs": [],
   "source": [
    "srednia = sum(litery_lista)/len(litery_lista)"
   ]
  },
  {
   "cell_type": "code",
   "execution_count": 63,
   "metadata": {
    "collapsed": false
   },
   "outputs": [
    {
     "name": "stdout",
     "output_type": "stream",
     "text": [
      "7.333333333333333\n"
     ]
    }
   ],
   "source": [
    "print(srednia)"
   ]
  },
  {
   "cell_type": "code",
   "execution_count": 74,
   "metadata": {
    "collapsed": false
   },
   "outputs": [
    {
     "name": "stdout",
     "output_type": "stream",
     "text": [
      "5\n"
     ]
    }
   ],
   "source": [
    "litery_lista.sort()\n",
    "liczba = len(litery_lista)\n",
    "if liczba % 2 != 0:\n",
    "    mediana = litery_lista[liczba//2]\n",
    "else:\n",
    "    mediana = (litery_lista[liczba/2]+litery_lista[(liczba/2)-1])/2\n",
    "print(mediana)"
   ]
  },
  {
   "cell_type": "code",
   "execution_count": 39,
   "metadata": {
    "collapsed": true
   },
   "outputs": [],
   "source": [
    "czwarty_uczestnik = \"Ada\""
   ]
  },
  {
   "cell_type": "markdown",
   "metadata": {},
   "source": [
    "# zadanie 4"
   ]
  },
  {
   "cell_type": "code",
   "execution_count": 40,
   "metadata": {
    "collapsed": true
   },
   "outputs": [],
   "source": [
    "imie = \"Kasia\""
   ]
  },
  {
   "cell_type": "code",
   "execution_count": 41,
   "metadata": {
    "collapsed": true
   },
   "outputs": [],
   "source": [
    "wzrost = 1.72"
   ]
  },
  {
   "cell_type": "code",
   "execution_count": 42,
   "metadata": {
    "collapsed": true
   },
   "outputs": [],
   "source": [
    "waga = 59"
   ]
  },
  {
   "cell_type": "code",
   "execution_count": 45,
   "metadata": {
    "collapsed": true
   },
   "outputs": [],
   "source": [
    "bmi = waga / wzrost ** 2"
   ]
  },
  {
   "cell_type": "code",
   "execution_count": 46,
   "metadata": {
    "collapsed": false
   },
   "outputs": [
    {
     "name": "stdout",
     "output_type": "stream",
     "text": [
      "19.94321254732288\n"
     ]
    }
   ],
   "source": [
    "print(bmi)"
   ]
  },
  {
   "cell_type": "code",
   "execution_count": 48,
   "metadata": {
    "collapsed": false
   },
   "outputs": [],
   "source": [
    "if bmi < 18.5:\n",
    "    x = \"poniżej normy\"\n",
    "elif bmi >= 18.5 and bmi <= 25:\n",
    "    x = \"w normie\"\n",
    "else:\n",
    "    x = \"powyżej normy\""
   ]
  },
  {
   "cell_type": "code",
   "execution_count": 49,
   "metadata": {
    "collapsed": false
   },
   "outputs": [
    {
     "name": "stdout",
     "output_type": "stream",
     "text": [
      "BMI: 19.94321254732288, w normie\n"
     ]
    }
   ],
   "source": [
    "print (\"BMI: {}, {}\".format(bmi,x))"
   ]
  },
  {
   "cell_type": "markdown",
   "metadata": {
    "collapsed": true
   },
   "source": [
    "# zadanie 5"
   ]
  },
  {
   "cell_type": "code",
   "execution_count": 96,
   "metadata": {
    "collapsed": false
   },
   "outputs": [],
   "source": [
    "czy_pada = False\n",
    "czy_tydzien_pracy = True\n",
    "czy_bankrut = False\n",
    "if czy_pada == False and czy_bankrut == False and czy_tydzien_pracy == False:\n",
    "    czy_fajnie = True"
   ]
  },
  {
   "cell_type": "code",
   "execution_count": 97,
   "metadata": {
    "collapsed": false
   },
   "outputs": [
    {
     "name": "stdout",
     "output_type": "stream",
     "text": [
      "False\n"
     ]
    }
   ],
   "source": [
    "print(czy_fajnie)"
   ]
  },
  {
   "cell_type": "markdown",
   "metadata": {},
   "source": [
    "# zadanie 6"
   ]
  },
  {
   "cell_type": "code",
   "execution_count": 77,
   "metadata": {
    "collapsed": true
   },
   "outputs": [],
   "source": [
    "lista_kwadrat = [elem ** 2 for elem in range (1, 13)]"
   ]
  },
  {
   "cell_type": "code",
   "execution_count": 78,
   "metadata": {
    "collapsed": false
   },
   "outputs": [
    {
     "name": "stdout",
     "output_type": "stream",
     "text": [
      "[1, 4, 9, 16, 25, 36, 49, 64, 81, 100, 121, 144]\n"
     ]
    }
   ],
   "source": [
    "print(lista_kwadrat)"
   ]
  },
  {
   "cell_type": "code",
   "execution_count": 79,
   "metadata": {
    "collapsed": true
   },
   "outputs": [],
   "source": [
    "lista_kwadrat2 = [elem ** 2 for elem in range(1, 31) if elem % 3 == 0]"
   ]
  },
  {
   "cell_type": "code",
   "execution_count": 80,
   "metadata": {
    "collapsed": false
   },
   "outputs": [
    {
     "name": "stdout",
     "output_type": "stream",
     "text": [
      "[9, 36, 81, 144, 225, 324, 441, 576, 729, 900]\n"
     ]
    }
   ],
   "source": [
    "print(lista_kwadrat2)"
   ]
  },
  {
   "cell_type": "markdown",
   "metadata": {},
   "source": [
    "# zadanie 6*"
   ]
  },
  {
   "cell_type": "code",
   "execution_count": 109,
   "metadata": {
    "collapsed": false
   },
   "outputs": [
    {
     "name": "stdout",
     "output_type": "stream",
     "text": [
      "[1.53, 1.71, 1.73, 1.77, 1.81, 1.83, 1.84, 1.89, 1.92, 1.97] [52, 57, 60, 66, 74, 82, 87, 89, 96, 97]\n"
     ]
    }
   ],
   "source": [
    "import matplotlib.pyplot as plt\n",
    "from random import sample\n",
    "wzrost_int = sample(range(150, 200), 10)\n",
    "wzrost = [x/100 for x in wzrost_int]\n",
    "wzrost.sort()\n",
    "waga = sample(range(50,100), 10)\n",
    "waga.sort()\n",
    "print(wzrost, waga)"
   ]
  },
  {
   "cell_type": "code",
   "execution_count": 115,
   "metadata": {
    "collapsed": false
   },
   "outputs": [
    {
     "data": {
      "image/png": "[encoded data removed]",
      "text/plain": [
       "<matplotlib.figure.Figure at 0x7f4c0812bb00>"
      ]
     },
     "metadata": {},
     "output_type": "display_data"
    }
   ],
   "source": [
    "plt.plot(wzrost, waga)\n",
    "plt.xlabel(\"wzrost\")\n",
    "plt.ylabel(\"waga\")\n",
    "plt.axis([1.5, 2, 50, 100])\n",
    "plt.show()"
   ]
  },
  {
   "cell_type": "markdown",
   "metadata": {},
   "source": [
    "# zadanie 7"
   ]
  },
  {
   "cell_type": "code",
   "execution_count": 84,
   "metadata": {
    "collapsed": true
   },
   "outputs": [],
   "source": [
    "def display_name(name):\n",
    "    print(name)\n",
    "    return name\n"
   ]
  },
  {
   "cell_type": "code",
   "execution_count": 85,
   "metadata": {
    "collapsed": false
   },
   "outputs": [
    {
     "name": "stdout",
     "output_type": "stream",
     "text": [
      "Kasia\n"
     ]
    },
    {
     "data": {
      "text/plain": [
       "'Kasia'"
      ]
     },
     "execution_count": 85,
     "metadata": {},
     "output_type": "execute_result"
    }
   ],
   "source": [
    "display_name(\"Kasia\")"
   ]
  },
  {
   "cell_type": "code",
   "execution_count": 86,
   "metadata": {
    "collapsed": false
   },
   "outputs": [
    {
     "name": "stdout",
     "output_type": "stream",
     "text": [
      "None\n"
     ]
    }
   ],
   "source": [
    "display_name(name = None)"
   ]
  },
  {
   "cell_type": "markdown",
   "metadata": {},
   "source": [
    "# zadanie 8"
   ]
  },
  {
   "cell_type": "code",
   "execution_count": 100,
   "metadata": {
    "collapsed": true
   },
   "outputs": [],
   "source": [
    "def calc_bmi(name, weight, height):\n",
    "    bmi = round(weight / height ** 2, 2)\n",
    "    if bmi < 18.5:\n",
    "        x = \"poniżej normy\"\n",
    "    elif bmi >= 18.5 and bmi <= 25:\n",
    "        x = \"w normie\"\n",
    "    else:\n",
    "        x = \"powyżej normy\"\n",
    "    print(\"{} Twoje BMI wynosi {} i jest {}.\".format(name, bmi, x))"
   ]
  },
  {
   "cell_type": "code",
   "execution_count": 101,
   "metadata": {
    "collapsed": false
   },
   "outputs": [
    {
     "name": "stdout",
     "output_type": "stream",
     "text": [
      "Kasia Twoje BMI wynosi 19.94 i jest w normie.\n"
     ]
    }
   ],
   "source": [
    "calc_bmi(\"Kasia\", 59, 1.72)"
   ]
  },
  {
   "cell_type": "markdown",
   "metadata": {},
   "source": [
    "# zadanie 9"
   ]
  },
  {
   "cell_type": "code",
   "execution_count": null,
   "metadata": {
    "collapsed": true
   },
   "outputs": [],
   "source": [
    "def suma_zarobkow(dzial):\n",
    "    "
   ]
  },
  {
   "cell_type": "markdown",
   "metadata": {},
   "source": [
    "# zadanie 10"
   ]
  },
  {
   "cell_type": "code",
   "execution_count": 289,
   "metadata": {
    "collapsed": false
   },
   "outputs": [],
   "source": [
    "class Student():\n",
    "    \n",
    "    def __init__(self, imie, nazwisko, nr_albumu, lista_ocen, nieobecnosci):\n",
    "        self.imie = imie\n",
    "        self.nazwisko = nazwisko\n",
    "        self.nr_albumu = nr_albumu\n",
    "        self.lista_ocen = lista_ocen\n",
    "        self.nieobecnosci = nieobecnosci\n",
    "    \n",
    "    from statistics import mean\n",
    "    def oblicz_srednia(self):\n",
    "        self.srednia = mean(self.lista_ocen)\n",
    "        return self.srednia\n",
    "    \n",
    "    def okresl_frekwencje(self):\n",
    "        if self.nieobecnosci <= 2:\n",
    "            self.frekwencja = \"dobra\"\n",
    "        else:\n",
    "            self.frekwencja = \"słaba\"\n",
    "        return self.frekwencja\n",
    "    \n",
    "    def przedstaw_studenta(self):\n",
    "        return \"{} {}, index: {}, ma średnią {}, frekwencja: {}.\".format(self.imie, self.nazwisko, self.nr_albumu, self.srednia, self.frekwencja)\n",
    "    "
   ]
  },
  {
   "cell_type": "code",
   "execution_count": 290,
   "metadata": {
    "collapsed": true
   },
   "outputs": [],
   "source": [
    "student_1 = Student(\"Adam\", \"Nowak\", \"12345\", [3, 4, 5, 4], 2)"
   ]
  },
  {
   "cell_type": "code",
   "execution_count": 291,
   "metadata": {
    "collapsed": false
   },
   "outputs": [
    {
     "data": {
      "text/plain": [
       "4"
      ]
     },
     "execution_count": 291,
     "metadata": {},
     "output_type": "execute_result"
    }
   ],
   "source": [
    "student_1.oblicz_srednia()"
   ]
  },
  {
   "cell_type": "code",
   "execution_count": 292,
   "metadata": {
    "collapsed": false
   },
   "outputs": [
    {
     "data": {
      "text/plain": [
       "'dobra'"
      ]
     },
     "execution_count": 292,
     "metadata": {},
     "output_type": "execute_result"
    }
   ],
   "source": [
    "student_1.okresl_frekwencje()"
   ]
  },
  {
   "cell_type": "code",
   "execution_count": 293,
   "metadata": {
    "collapsed": false
   },
   "outputs": [
    {
     "data": {
      "text/plain": [
       "'Adam Nowak, index: 12345, ma średnią 4, frekwencja: dobra.'"
      ]
     },
     "execution_count": 293,
     "metadata": {},
     "output_type": "execute_result"
    }
   ],
   "source": [
    "student_1.przedstaw_studenta()"
   ]
  },
  {
   "cell_type": "code",
   "execution_count": 143,
   "metadata": {
    "collapsed": true
   },
   "outputs": [],
   "source": [
    "student_2 = Student(\"Anna\", \"Kowalska\", \"23456\", [3, 5, 3, 3], 3)"
   ]
  },
  {
   "cell_type": "code",
   "execution_count": 144,
   "metadata": {
    "collapsed": false
   },
   "outputs": [
    {
     "data": {
      "text/plain": [
       "3.5"
      ]
     },
     "execution_count": 144,
     "metadata": {},
     "output_type": "execute_result"
    }
   ],
   "source": [
    "student_2.oblicz_srednia()"
   ]
  },
  {
   "cell_type": "code",
   "execution_count": 145,
   "metadata": {
    "collapsed": false
   },
   "outputs": [
    {
     "data": {
      "text/plain": [
       "'słaba'"
      ]
     },
     "execution_count": 145,
     "metadata": {},
     "output_type": "execute_result"
    }
   ],
   "source": [
    "student_2.okresl_frekwencje()"
   ]
  },
  {
   "cell_type": "code",
   "execution_count": 146,
   "metadata": {
    "collapsed": false
   },
   "outputs": [
    {
     "data": {
      "text/plain": [
       "'Anna Kowalska, index: 23456, ma średnią 3.5, frekwencja: słaba.'"
      ]
     },
     "execution_count": 146,
     "metadata": {},
     "output_type": "execute_result"
    }
   ],
   "source": [
    "student_2.przedstaw_studenta()"
   ]
  },
  {
   "cell_type": "markdown",
   "metadata": {},
   "source": [
    "# zadanie 11"
   ]
  },
  {
   "cell_type": "code",
   "execution_count": 226,
   "metadata": {
    "collapsed": false
   },
   "outputs": [],
   "source": [
    "from faker import Faker\n",
    "import random\n",
    "import numpy as np\n",
    "fake = Faker(\"pl_PL\")"
   ]
  },
  {
   "cell_type": "code",
   "execution_count": 227,
   "metadata": {
    "collapsed": true
   },
   "outputs": [],
   "source": [
    "def generuj_studentow(liczba_studentow):\n",
    "    lista_studentow = {}\n",
    "    for i in range(liczba_studentow):\n",
    "        lista_studentow[i] = {}\n",
    "        lista_studentow[i][\"imie_nazwisko\"] = fake.name()\n",
    "        lista_studentow[i][\"nr_albumu\"] = random.randint(10000, 100000)\n",
    "        lista_studentow[i][\"lista_ocen\"] = random.choices(range(2, 6), k=4)\n",
    "        lista_studentow[i][\"nieobecnosci\"] = randint(0,5)\n",
    "    return lista_studentow    \n",
    "    "
   ]
  },
  {
   "cell_type": "code",
   "execution_count": 228,
   "metadata": {
    "collapsed": false
   },
   "outputs": [
    {
     "data": {
      "text/plain": [
       "{0: {'imie_nazwisko': 'Cezary Pałęga',\n",
       "  'lista_ocen': [2, 4, 4, 4],\n",
       "  'nieobecnosci': 0,\n",
       "  'nr_albumu': 98882},\n",
       " 1: {'imie_nazwisko': 'Konstanty Lepianka',\n",
       "  'lista_ocen': [4, 3, 5, 4],\n",
       "  'nieobecnosci': 1,\n",
       "  'nr_albumu': 54166},\n",
       " 2: {'imie_nazwisko': 'Robert Wyrwich',\n",
       "  'lista_ocen': [5, 3, 2, 2],\n",
       "  'nieobecnosci': 1,\n",
       "  'nr_albumu': 46050},\n",
       " 3: {'imie_nazwisko': 'Kamil Wojtaszak',\n",
       "  'lista_ocen': [3, 2, 5, 4],\n",
       "  'nieobecnosci': 4,\n",
       "  'nr_albumu': 77251},\n",
       " 4: {'imie_nazwisko': 'pan Andrzej Domowicz',\n",
       "  'lista_ocen': [4, 5, 5, 3],\n",
       "  'nieobecnosci': 3,\n",
       "  'nr_albumu': 82086}}"
      ]
     },
     "execution_count": 228,
     "metadata": {},
     "output_type": "execute_result"
    }
   ],
   "source": [
    "generuj_studentow(5)"
   ]
  },
  {
   "cell_type": "markdown",
   "metadata": {},
   "source": [
    "# zadanie 12"
   ]
  },
  {
   "cell_type": "markdown",
   "metadata": {},
   "source": [
    "class ClassInterpretation():\n",
    "    \n",
    "    def __init__(self, lista_studentow):\n",
    "        self.lista_studentow = lista_studentow\n",
    "        \n",
    "    from statistics import mean, median\n",
    "    \n",
    "    def oblicz_srednia(self, lista_ocen):\n",
    "        self.srednia = mean(lista_ocen)\n",
    "        return self.srednia\n",
    "    \n",
    "    def oblicz_mediane(self, lista_ocen):\n",
    "        self.mediana = median(lista_ocen)\n",
    "        return self.mediana\n",
    "    \n",
    "    def __str__(self):\n",
    "        return \"W grupie jest {} studentów.\".format(len(lista_studentow))\n",
    "    \n",
    "    def __float__(self):\n",
    "        srednie_studentow = []\n",
    "        for i in range(len(lista_studentow)):\n",
    "            x = self.oblicz_srednia(lista_studentow[i][\"lista_ocen\"])\n",
    "            srednie_studentow.append(x)\n",
    "        srednia_grupy = round(mean(srednie_studentow), 2)\n",
    "        return srednia_grupy\n",
    "    \n",
    "\n",
    "        \n",
    "        "
   ]
  },
  {
   "cell_type": "code",
   "execution_count": 335,
   "metadata": {
    "collapsed": false
   },
   "outputs": [],
   "source": [
    "class ClassInterpretation():\n",
    "    \n",
    "    def __init__(self, lista_studentow):\n",
    "        self.lista_studentow = lista_studentow\n",
    "        \n",
    "    from statistics import mean, median\n",
    "    \n",
    "    def oblicz_srednie(self):\n",
    "        srednie_studentow = []\n",
    "        for i in range(len(lista_studentow)):\n",
    "            x = mean(lista_studentow[i][\"lista_ocen\"])\n",
    "            srednie_studentow.append(x)\n",
    "        return srednie_studentow\n",
    "    \n",
    "    def oblicz_mediany(self):\n",
    "        mediany_studentow = []\n",
    "        for i in range(len(lista_studentow)):\n",
    "            x = median(lista_studentow[i][\"lista_ocen\"])\n",
    "            mediany_studentow.append(x)\n",
    "        return mediany_studentow\n",
    "    \n",
    "    def __str__(self, srednie_studentow, mediany_studentow):\n",
    "        return \"W grupie jest {} studentów. Średnie studentów: {}. Mediany studentów: {}.\".format(len(lista_studentow), srednie_studentow, mediany_studentow)\n",
    "    \n",
    "    def __float__(self):\n",
    "        srednie_studentow = self.oblicz_srednie()\n",
    "        srednia_grupy = round(mean(srednie_studentow), 2)\n",
    "        return srednia_grupy\n",
    "    \n",
    "    #def rysuj_wykres(lista_srednich, lista_nieobecnosci):"
   ]
  },
  {
   "cell_type": "code",
   "execution_count": 336,
   "metadata": {
    "collapsed": true
   },
   "outputs": [],
   "source": [
    "lista_studentow = generuj_studentow(5)"
   ]
  },
  {
   "cell_type": "code",
   "execution_count": 337,
   "metadata": {
    "collapsed": false
   },
   "outputs": [],
   "source": [
    "grupa = ClassInterpretation(lista_studentow)"
   ]
  },
  {
   "cell_type": "code",
   "execution_count": 350,
   "metadata": {
    "collapsed": false
   },
   "outputs": [],
   "source": [
    "srednie_studentow = str(grupa.oblicz_srednie()).strip(\"[]\")"
   ]
  },
  {
   "cell_type": "code",
   "execution_count": 351,
   "metadata": {
    "collapsed": false
   },
   "outputs": [
    {
     "name": "stdout",
     "output_type": "stream",
     "text": [
      "2.75, 3.5, 3.5, 3.5, 3.75\n"
     ]
    }
   ],
   "source": [
    "print(srednie_studentow)"
   ]
  },
  {
   "cell_type": "code",
   "execution_count": 354,
   "metadata": {
    "collapsed": false
   },
   "outputs": [],
   "source": [
    "mediany_studentow = str(grupa.oblicz_mediany()).strip(\"[]\")"
   ]
  },
  {
   "cell_type": "code",
   "execution_count": 355,
   "metadata": {
    "collapsed": false
   },
   "outputs": [
    {
     "ename": "TypeError",
     "evalue": "decoding to str: need a bytes-like object, ClassInterpretation found",
     "output_type": "error",
     "traceback": [
      "\u001b[0;31m---------------------------------------------------------------------------\u001b[0m",
      "\u001b[0;31mTypeError\u001b[0m                                 Traceback (most recent call last)",
      "\u001b[0;32m<ipython-input-355-67cbdaeb98bb>\u001b[0m in \u001b[0;36m<module>\u001b[0;34m()\u001b[0m\n\u001b[0;32m----> 1\u001b[0;31m \u001b[0mstr\u001b[0m\u001b[0;34m(\u001b[0m\u001b[0mgrupa\u001b[0m\u001b[0;34m,\u001b[0m \u001b[0msrednie_studentow\u001b[0m\u001b[0;34m,\u001b[0m \u001b[0mmediany_studentow\u001b[0m\u001b[0;34m)\u001b[0m\u001b[0;34m\u001b[0m\u001b[0m\n\u001b[0m",
      "\u001b[0;31mTypeError\u001b[0m: decoding to str: need a bytes-like object, ClassInterpretation found"
     ]
    }
   ],
   "source": [
    "str(grupa, srednie_studentow, mediany_studentow)"
   ]
  },
  {
   "cell_type": "code",
   "execution_count": 273,
   "metadata": {
    "collapsed": false
   },
   "outputs": [
    {
     "data": {
      "text/plain": [
       "3.65"
      ]
     },
     "execution_count": 273,
     "metadata": {},
     "output_type": "execute_result"
    }
   ],
   "source": [
    "float(grupa)"
   ]
  },
  {
   "cell_type": "code",
   "execution_count": 234,
   "metadata": {
    "collapsed": false
   },
   "outputs": [
    {
     "name": "stdout",
     "output_type": "stream",
     "text": [
      "{0: {'imie_nazwisko': 'Łukasz Kruszka', 'nr_albumu': 65497, 'lista_ocen': [2, 3, 3, 3], 'nieobecnosci': 0}, 1: {'imie_nazwisko': 'Julita Woźniczko', 'nr_albumu': 43459, 'lista_ocen': [5, 3, 4, 4], 'nieobecnosci': 5}, 2: {'imie_nazwisko': 'Robert Freitag', 'nr_albumu': 95541, 'lista_ocen': [5, 2, 2, 4], 'nieobecnosci': 3}, 3: {'imie_nazwisko': 'Miłosz Lizurej', 'nr_albumu': 64743, 'lista_ocen': [2, 4, 3, 3], 'nieobecnosci': 0}, 4: {'imie_nazwisko': 'Ernest Miozga', 'nr_albumu': 94081, 'lista_ocen': [2, 4, 2, 4], 'nieobecnosci': 5}}\n"
     ]
    }
   ],
   "source": [
    "print(lista_studentow)"
   ]
  },
  {
   "cell_type": "code",
   "execution_count": null,
   "metadata": {
    "collapsed": true
   },
   "outputs": [],
   "source": []
  }
 ],
 "metadata": {
  "kernelspec": {
   "display_name": "Python 3",
   "language": "python",
   "name": "python3"
  },
  "language_info": {
   "codemirror_mode": {
    "name": "ipython",
    "version": 3
   },
   "file_extension": ".py",
   "mimetype": "text/x-python",
   "name": "python",
   "nbconvert_exporter": "python",
   "pygments_lexer": "ipython3",
   "version": "3.6.0"
  }
 },
 "nbformat": 4,
 "nbformat_minor": 2
}
